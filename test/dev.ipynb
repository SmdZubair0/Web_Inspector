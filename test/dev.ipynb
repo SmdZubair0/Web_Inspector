{
 "cells": [
  {
   "cell_type": "code",
   "execution_count": 1,
   "id": "0c071241",
   "metadata": {},
   "outputs": [],
   "source": [
    "from langgraph.graph import StateGraph, START, END\n",
    "from src.main.schemas import LocatorState\n",
    "from typing import List\n",
    "from src.main.models.llms import ElementNamingModel\n",
    "from src.main.readers import HTMLReader"
   ]
  },
  {
   "cell_type": "code",
   "execution_count": 2,
   "id": "66972df4",
   "metadata": {},
   "outputs": [],
   "source": [
    "from lxml import etree"
   ]
  },
  {
   "cell_type": "code",
   "execution_count": null,
   "id": "629b7934",
   "metadata": {},
   "outputs": [],
   "source": [
    "# import requests\n",
    "\n",
    "# API_URL = \"https://api-inference.huggingface.co/models/google/flan-t5-small\"\n",
    "# headers = {\"Authorization\": \"Bearer api_key\"}  # replace with your Hugging Face token\n",
    "\n",
    "# def query(payload):\n",
    "#     response = requests.post(API_URL, headers=headers, json={'inputs' : payload})\n",
    "#     print(response.status_code, response.text)\n",
    "#     return response.json()\n",
    "\n",
    "# # Example prompt (instruction style, since FLAN-T5 is instruction-tuned)\n",
    "# output = query('Give a descriptive name for the given html tag <input type=\"submit\" class=\"btn btn-white btn-50 btn-arrow\" id=\"loginBtn\" value=\"Log in\"/>&#13;\\n ')\n",
    "\n",
    "# print(output)\n"
   ]
  },
  {
   "cell_type": "code",
   "execution_count": 4,
   "id": "82bb67e7",
   "metadata": {},
   "outputs": [],
   "source": [
    "reader = HTMLReader()\n",
    "dom = reader.readFromFile('C:\\\\Users\\\\zubair.shaik\\\\Desktop\\\\xpathfinder\\\\dom2.xml')"
   ]
  },
  {
   "cell_type": "code",
   "execution_count": 5,
   "id": "04f2c51a",
   "metadata": {},
   "outputs": [],
   "source": [
    "from lxml.cssselect import CSSSelector"
   ]
  },
  {
   "cell_type": "code",
   "execution_count": 6,
   "id": "2c1970cc",
   "metadata": {},
   "outputs": [
    {
     "name": "stdout",
     "output_type": "stream",
     "text": [
      "<Element h1 at 0x217997894f0>\n"
     ]
    }
   ],
   "source": [
    "s = CSSSelector('h1')\n",
    "dom = dom.getroottree() if hasattr(dom, \"getroottree\") else dom\n",
    "e = s(dom)\n",
    "for i in e:\n",
    "    print(i)"
   ]
  },
  {
   "cell_type": "code",
   "execution_count": 7,
   "id": "b729ce41",
   "metadata": {},
   "outputs": [],
   "source": [
    "from src.main.validators import ValidateLocator\n",
    "\n",
    "\n",
    "v = ValidateLocator(dom)"
   ]
  },
  {
   "cell_type": "code",
   "execution_count": 9,
   "id": "6211b3ac",
   "metadata": {},
   "outputs": [
    {
     "data": {
      "text/plain": [
       "[<Element h1 at 0x217997894f0>]"
      ]
     },
     "execution_count": 9,
     "metadata": {},
     "output_type": "execute_result"
    }
   ],
   "source": [
    "dom.xpath(\"//h1\")"
   ]
  },
  {
   "cell_type": "code",
   "execution_count": 8,
   "id": "3b68b863",
   "metadata": {},
   "outputs": [
    {
     "name": "stdout",
     "output_type": "stream",
     "text": [
      "<Element h1 at 0x217997894f0>\n"
     ]
    },
    {
     "data": {
      "text/plain": [
       "True"
      ]
     },
     "execution_count": 8,
     "metadata": {},
     "output_type": "execute_result"
    }
   ],
   "source": [
    "v.is_valid_cssSelector(\"h1\")"
   ]
  },
  {
   "cell_type": "code",
   "execution_count": 5,
   "id": "b4c66da5",
   "metadata": {},
   "outputs": [
    {
     "data": {
      "text/plain": [
       "list"
      ]
     },
     "execution_count": 5,
     "metadata": {},
     "output_type": "execute_result"
    }
   ],
   "source": [
    "type(dom.xpath(\"//*\"))"
   ]
  },
  {
   "cell_type": "code",
   "execution_count": 6,
   "id": "d624da61",
   "metadata": {},
   "outputs": [
    {
     "data": {
      "text/plain": [
       "<Element meta at 0x25784649b80>"
      ]
     },
     "execution_count": 6,
     "metadata": {},
     "output_type": "execute_result"
    }
   ],
   "source": [
    "dom.xpath(\"//*\")[3]"
   ]
  },
  {
   "cell_type": "code",
   "execution_count": 7,
   "id": "38efad29",
   "metadata": {},
   "outputs": [
    {
     "name": "stdout",
     "output_type": "stream",
     "text": [
      "0 <Element html at 0x257834b8780>\n",
      "1 <Element head at 0x25784649a90>\n",
      "2 <Element title at 0x25784649b30>\n",
      "3 <Element meta at 0x25784649b80>\n",
      "4 <Element meta at 0x25784649a40>\n",
      "5 <Element meta at 0x25784649e00>\n",
      "6 <Element style at 0x2578464a210>\n",
      "7 <Element body at 0x25784649c20>\n",
      "8 <Element div at 0x2578464a260>\n",
      "9 <Element h1 at 0x2578464a8a0>\n",
      "10 <Element p at 0x2578464a850>\n",
      "11 <Element p at 0x257941385f0>\n",
      "12 <Element a at 0x25794139c70>\n"
     ]
    }
   ],
   "source": [
    "for i, j in dict(enumerate(dom.xpath(\"//*\"))).items():\n",
    "    print(i, j)"
   ]
  },
  {
   "cell_type": "code",
   "execution_count": 8,
   "id": "94b02147",
   "metadata": {},
   "outputs": [],
   "source": [
    "raw_element_dom = '<body><div class=\"help-article\"><h1>Example Domains</h1><p></p></div></body>'\n",
    "raw_element = '<h1>Example Domains</h1>'"
   ]
  },
  {
   "cell_type": "code",
   "execution_count": 9,
   "id": "5da169bd",
   "metadata": {},
   "outputs": [],
   "source": [
    "element = reader.readFromString(raw_element)\n",
    "element_dom = reader.readFromString(raw_element_dom)"
   ]
  },
  {
   "cell_type": "code",
   "execution_count": 10,
   "id": "e3f08a13",
   "metadata": {},
   "outputs": [],
   "source": [
    "from src.main.generator.helpers import CssSelectorHelper\n",
    "\n",
    "\n",
    "helper = CssSelectorHelper()"
   ]
  },
  {
   "cell_type": "code",
   "execution_count": 11,
   "id": "15842249",
   "metadata": {},
   "outputs": [],
   "source": [
    "from src.main.utils import DomExplorer\n",
    "\n",
    "\n",
    "ex = DomExplorer()"
   ]
  },
  {
   "cell_type": "code",
   "execution_count": 12,
   "id": "99cddd35",
   "metadata": {},
   "outputs": [
    {
     "data": {
      "text/plain": [
       "['div', '.help-article', 'div.help-article']"
      ]
     },
     "execution_count": 12,
     "metadata": {},
     "output_type": "execute_result"
    }
   ],
   "source": [
    "helper.get_basic_selectors(element_dom)"
   ]
  },
  {
   "cell_type": "code",
   "execution_count": 13,
   "id": "3a63b2d2",
   "metadata": {},
   "outputs": [
    {
     "data": {
      "text/plain": [
       "<Element div at 0x25794139e00>"
      ]
     },
     "execution_count": 13,
     "metadata": {},
     "output_type": "execute_result"
    }
   ],
   "source": [
    "element_dom"
   ]
  },
  {
   "cell_type": "code",
   "execution_count": 14,
   "id": "ecf48816",
   "metadata": {},
   "outputs": [
    {
     "data": {
      "text/plain": [
       "[None, <Element div at 0x25794139e00>]"
      ]
     },
     "execution_count": 14,
     "metadata": {},
     "output_type": "execute_result"
    }
   ],
   "source": [
    "ex.find_all_parents(element, element_dom)"
   ]
  },
  {
   "cell_type": "code",
   "execution_count": 15,
   "id": "289daba2",
   "metadata": {},
   "outputs": [
    {
     "data": {
      "text/plain": [
       "{'.help-article > h1', 'div > h1', 'div.help-article > h1', 'h1'}"
      ]
     },
     "execution_count": 15,
     "metadata": {},
     "output_type": "execute_result"
    }
   ],
   "source": [
    "helper.run(element, element_dom)"
   ]
  },
  {
   "cell_type": "code",
   "execution_count": 27,
   "id": "dd7246c9",
   "metadata": {},
   "outputs": [],
   "source": [
    "a = list(enumerate(dom.xpath(\"//*\")))"
   ]
  },
  {
   "cell_type": "code",
   "execution_count": 28,
   "id": "4c2b8a4e",
   "metadata": {},
   "outputs": [
    {
     "data": {
      "text/plain": [
       "13"
      ]
     },
     "execution_count": 28,
     "metadata": {},
     "output_type": "execute_result"
    }
   ],
   "source": [
    "len(a)"
   ]
  },
  {
   "cell_type": "code",
   "execution_count": 14,
   "id": "f58a7b05",
   "metadata": {},
   "outputs": [],
   "source": [
    "from src.main.searchers import SearchHelper"
   ]
  },
  {
   "cell_type": "code",
   "execution_count": 15,
   "id": "15f70a3a",
   "metadata": {},
   "outputs": [],
   "source": [
    "sr = SearchHelper()"
   ]
  },
  {
   "cell_type": "code",
   "execution_count": 17,
   "id": "81d3d6b4",
   "metadata": {},
   "outputs": [
    {
     "data": {
      "text/plain": [
       "1594"
      ]
     },
     "execution_count": 17,
     "metadata": {},
     "output_type": "execute_result"
    }
   ],
   "source": [
    "fe = sr.filter_elements(a)\n",
    "len(fe)"
   ]
  },
  {
   "cell_type": "code",
   "execution_count": null,
   "id": "2940743f",
   "metadata": {},
   "outputs": [],
   "source": [
    "from src.main.searchers import SearchHelper\n",
    "\n",
    "searcher = SearchWithEmbeddings(dom.xpath(\"//*\"), HuggingFaceAPIEmbeddings(), ElementNamingModel(), FaissVectorStore(), SearchHelper())"
   ]
  },
  {
   "cell_type": "code",
   "execution_count": null,
   "id": "96501b0e",
   "metadata": {},
   "outputs": [],
   "source": [
    "searcher.setup()"
   ]
  },
  {
   "cell_type": "code",
   "execution_count": null,
   "id": "4bd19a8a",
   "metadata": {},
   "outputs": [
    {
     "ename": "AttributeError",
     "evalue": "'NoneType' object has no attribute 'similarity_search_with_score'",
     "output_type": "error",
     "traceback": [
      "\u001b[1;31m---------------------------------------------------------------------------\u001b[0m",
      "\u001b[1;31mAttributeError\u001b[0m                            Traceback (most recent call last)",
      "Cell \u001b[1;32mIn[36], line 1\u001b[0m\n\u001b[1;32m----> 1\u001b[0m a \u001b[38;5;241m=\u001b[39m \u001b[43msearcher\u001b[49m\u001b[38;5;241;43m.\u001b[39;49m\u001b[43msearch\u001b[49m\u001b[43m(\u001b[49m\u001b[38;5;124;43m\"\u001b[39;49m\u001b[38;5;124;43m49\u001b[39;49m\u001b[38;5;124;43m%\u001b[39;49m\u001b[38;5;124;43m\"\u001b[39;49m\u001b[43m)\u001b[49m\n",
      "File \u001b[1;32mc:\\Users\\zubair.shaik\\Desktop\\xpathfinder\\searchers\\SearchWithEmbeddings.py:37\u001b[0m, in \u001b[0;36mSearchWithEmbeddings.search\u001b[1;34m(self, query)\u001b[0m\n\u001b[0;32m     35\u001b[0m \u001b[38;5;28;01mdef\u001b[39;00m\u001b[38;5;250m \u001b[39m\u001b[38;5;21msearch\u001b[39m(\u001b[38;5;28mself\u001b[39m, query):\n\u001b[1;32m---> 37\u001b[0m     results \u001b[38;5;241m=\u001b[39m \u001b[38;5;28;43mself\u001b[39;49m\u001b[38;5;241;43m.\u001b[39;49m\u001b[43mvectorstore\u001b[49m\u001b[38;5;241;43m.\u001b[39;49m\u001b[43msimilarity_search_with_score\u001b[49m(query, k\u001b[38;5;241m=\u001b[39m\u001b[38;5;28mlen\u001b[39m(\u001b[38;5;28mself\u001b[39m\u001b[38;5;241m.\u001b[39mchunks))\n\u001b[0;32m     39\u001b[0m     scores \u001b[38;5;241m=\u001b[39m []\n\u001b[0;32m     41\u001b[0m     \u001b[38;5;28;01mfor\u001b[39;00m doc, score \u001b[38;5;129;01min\u001b[39;00m results:\n",
      "\u001b[1;31mAttributeError\u001b[0m: 'NoneType' object has no attribute 'similarity_search_with_score'"
     ]
    }
   ],
   "source": [
    "a = searcher.search(\"49%\")"
   ]
  },
  {
   "cell_type": "code",
   "execution_count": null,
   "id": "9933dedd",
   "metadata": {},
   "outputs": [
    {
     "data": {
      "text/plain": [
       "<Element fieldset at 0x1b2fb1c2210>"
      ]
     },
     "execution_count": 38,
     "metadata": {},
     "output_type": "execute_result"
    }
   ],
   "source": [
    "a.getparent()"
   ]
  },
  {
   "cell_type": "code",
   "execution_count": null,
   "id": "0eab3807",
   "metadata": {},
   "outputs": [],
   "source": [
    "from lxml import html, etree\n",
    "\n",
    "def get_partial_dom(target, levels=1):\n",
    "    current = etree.Element(target.tag, **target.attrib)\n",
    "    current.text = target.text\n",
    "\n",
    "    for i in range(levels):\n",
    "        original = target\n",
    "        parent = target.getparent()\n",
    "        if parent is None:\n",
    "            break\n",
    "\n",
    "        prev = original.getprevious()\n",
    "        nxt = original.getnext()\n",
    "\n",
    "        # Clone parent without children\n",
    "        partial_parent = etree.Element(parent.tag, **parent.attrib)\n",
    "\n",
    "        # Add prev sibling\n",
    "        if prev is not None:\n",
    "            partial_parent.append(etree.Element(prev.tag, **prev.attrib))\n",
    "\n",
    "        # Add current\n",
    "        partial_parent.append(current)\n",
    "\n",
    "        # Add next sibling\n",
    "        if nxt is not None:\n",
    "            partial_parent.append(etree.Element(nxt.tag, **nxt.attrib))\n",
    "\n",
    "        # Update loop vars\n",
    "        target = parent\n",
    "        current = partial_parent\n",
    "\n",
    "    return etree.tostring(current).decode()"
   ]
  },
  {
   "cell_type": "code",
   "execution_count": null,
   "id": "dd18b086",
   "metadata": {},
   "outputs": [
    {
     "data": {
      "text/plain": [
       "'<input class=\"in-text mp-no-track\" id=\"Email\" maxlength=\"100\" name=\"Email\" placeholder=\"Enter email...\" type=\"text\" value=\"\"/>&#13;\\n            &#13;\\n        '"
      ]
     },
     "execution_count": 43,
     "metadata": {},
     "output_type": "execute_result"
    }
   ],
   "source": [
    "etree.tostring(a).decode()"
   ]
  },
  {
   "cell_type": "code",
   "execution_count": null,
   "id": "36c84de8",
   "metadata": {},
   "outputs": [],
   "source": [
    "<input class=\"input-validation-error in-text mp-no-track\" id=\"Email\" maxlength=\"100\" name=\"Email\" placeholder=\"Enter email...\" type=\"text\" value=\"\">\n",
    "\n"
   ]
  },
  {
   "cell_type": "code",
   "execution_count": null,
   "id": "7d37a06d",
   "metadata": {},
   "outputs": [
    {
     "data": {
      "text/plain": [
       "'<div class=\"label-wrap\">&#13;\\n                <label class=\"bolded\" for=\"Email\">Email</label>&#13;\\n            </div>&#13;\\n            '"
      ]
     },
     "execution_count": 45,
     "metadata": {},
     "output_type": "execute_result"
    }
   ],
   "source": [
    "etree.tostring(a.getprevious()).decode()"
   ]
  },
  {
   "cell_type": "code",
   "execution_count": null,
   "id": "a8e7225f",
   "metadata": {},
   "outputs": [],
   "source": [
    "el = get_partial_dom(a, 2)"
   ]
  },
  {
   "cell_type": "code",
   "execution_count": null,
   "id": "567c4122",
   "metadata": {},
   "outputs": [
    {
     "data": {
      "text/plain": [
       "'<form action=\"/Account/Login\" autocomplete=\"off\" class=\"_causes-notifications\" id=\"loginForm\" method=\"post\"><div class=\"top-notifs hide-sm\"/><fieldset class=\"form-row\"><div class=\"label-wrap\"/><input class=\"in-text mp-no-track\" id=\"Email\" maxlength=\"100\" name=\"Email\" placeholder=\"Enter email...\" type=\"text\" value=\"\"/></fieldset><fieldset class=\"form-row\"/></form>'"
      ]
     },
     "execution_count": 41,
     "metadata": {},
     "output_type": "execute_result"
    }
   ],
   "source": [
    "el"
   ]
  },
  {
   "cell_type": "code",
   "execution_count": null,
   "id": "78151566",
   "metadata": {},
   "outputs": [],
   "source": [
    "<form action=\"/Account/Login\" autocomplete=\"off\" class=\"_causes-notifications\" id=\"loginForm\" method=\"post\">\n",
    "    <div class=\"top-notifs hide-sm\"></div>\n",
    "    <fieldset class=\"form-row\">\n",
    "        <div class=\"label-wrap\"></div>\n",
    "        <input class=\"in-text mp-no-track\" id=\"Email\" maxlength=\"100\" name=\"Email\" placeholder=\"Enter email...\" type=\"text\" value=\"\">\n",
    "    </fieldset>\n",
    "    <fieldset class=\"form-row\"></fieldset>\n",
    "</form>"
   ]
  },
  {
   "cell_type": "code",
   "execution_count": null,
   "id": "683f31d1",
   "metadata": {},
   "outputs": [],
   "source": [
    "'<form action=\"/Account/Login\" autocomplete=\"off\" class=\"_causes-notifications\" id=\"loginForm\" method=\"post\">'\n",
    "'   <div class=\"top-notifs hide-sm\"/>'\n",
    "'   <fieldset class=\"form-row\">'\n",
    "'       <div class=\"label-wrap\"/>'\n",
    "'       <input class=\"in-text mp-no-track\" id=\"Email\" maxlength=\"100\" name=\"Email\" placeholder=\"Enter email...\" type=\"text\" value=\"\"/>'\n",
    "'   </fieldset><fieldset class=\"form-row\"/></form>'"
   ]
  },
  {
   "cell_type": "code",
   "execution_count": null,
   "id": "7b7734df",
   "metadata": {},
   "outputs": [],
   "source": [
    "t = ['<title> Member | Doctor Care Anywhere', \"<strong> We've upgraded our login system.<br>Please re-enter your login details as part of this upgrade.\", '<a> Google Chrome', '<a class=\"btn btn-30 fright\" id=\"closeWarningInIE\"> Close', '<header class=\"header\">', '<a class=\"logo\">', '<span class=\"ico ico-logo\">', '<h2> Log in', \"<strong> We've upgraded our login system.<br>Please re-enter your login details as part of this upgrade.\", '<input name=\"__RequestVerificationToken\" value=\"HOIThl8lBAKyRZEria5xhMUcmFuAl07ldw60G-cnlJpDydv_g3rEowWVgv9Kt2No6v7QN2S7V9m0HgXPNI2LdTkSoB41\">', '<label class=\"bolded\"> Email', '<input class=\"in-text mp-no-track\" id=\"Email\" name=\"Email\" value=\"\">', '<label class=\"bolded\"> Password', '<input class=\"in-text mp-no-track\" id=\"Password\" name=\"Password\">', '<a class=\"link white-link do-trigger-overlay\" id=\"forgottenPasswordLink\"> Forgotten your password?', '<input class=\"btn btn-white btn-50 btn-arrow\" id=\"loginBtn\" value=\"Log in\">', \"<span> Don't have an account?\", '<a class=\"link white-link\" id=\"signupLink\"> Sign up', '<a class=\"modal-close do-close-overlay\">', '<strong class=\"_toast-alert-message\">', '<ul class=\"fleft\">', '<span> ©2025 Doctor Care Anywhere Ltd.', '<a> Terms and conditions', '<a> Privacy', '<a class=\"fright\">', '<button class=\"iubenda-tp-btn iubenda-cs-preferences-link\">', '<label class=\"iub-sr-only\"> Your consent preferences for tracking technologies']\n",
    "n = ['\"doctor profile\"', 'login system upgrade notice', 'link to chrome', '\"ie close button\"', 'site header', 'sitelogolink', 'logo icon', 'login header', 'login system upgrade notification', 'antiforgerytoken', 'email label', 'email field', 'password label', 'password field', '\"password recovery link\"', 'login button', '\"no account prompt\"', 'signup button', 'close overlay link', 'alert message', 'float left list', 'copyright notice', '\"t&c link\"', 'link to privacy policy', 'float right', 'cookie preferences button', 'consent label']"
   ]
  },
  {
   "cell_type": "code",
   "execution_count": null,
   "id": "b21a167d",
   "metadata": {},
   "outputs": [
    {
     "data": {
      "text/plain": [
       "15"
      ]
     },
     "execution_count": 10,
     "metadata": {},
     "output_type": "execute_result"
    }
   ],
   "source": [
    "n.index(\"login button\")"
   ]
  },
  {
   "cell_type": "code",
   "execution_count": null,
   "id": "f5984411",
   "metadata": {},
   "outputs": [
    {
     "data": {
      "text/plain": [
       "'<input class=\"btn btn-white btn-50 btn-arrow\" id=\"loginBtn\" value=\"Log in\">'"
      ]
     },
     "execution_count": 11,
     "metadata": {},
     "output_type": "execute_result"
    }
   ],
   "source": [
    "t[15]"
   ]
  },
  {
   "cell_type": "code",
   "execution_count": null,
   "id": "3347f8a9",
   "metadata": {},
   "outputs": [
    {
     "data": {
      "text/plain": [
       "b'<input type=\"submit\" class=\"btn btn-white btn-50 btn-arrow\" id=\"loginBtn\" value=\"Log in\"/>&#13;\\n                        '"
      ]
     },
     "execution_count": 12,
     "metadata": {},
     "output_type": "execute_result"
    }
   ],
   "source": [
    "etree.tostring(a)"
   ]
  },
  {
   "cell_type": "code",
   "execution_count": null,
   "id": "c53cae2d",
   "metadata": {},
   "outputs": [],
   "source": [
    "strategies = [IdLocator(IdHelper()), CssSelectorLocator(CssSelectorHelper()), XPathLocator(XPathHelper())]\n",
    "validator = ValidateLocator(dom)"
   ]
  },
  {
   "cell_type": "code",
   "execution_count": null,
   "id": "1c1f2aea",
   "metadata": {},
   "outputs": [],
   "source": [
    "graph = StateGraph(LocatorState)\n",
    "\n",
    "graph.add_node('parse', make_extract_element_node(reader))\n",
    "graph.add_node('generator', make_generate_locator_node(strategies))\n",
    "graph.add_node('validator', make_check_uniqueness_node(validator))\n",
    "\n",
    "graph.add_edge(START, 'parse')\n",
    "graph.add_edge('parse', 'generator')\n",
    "graph.add_edge('generator', 'validator')\n",
    "graph.add_edge('validator', END)\n",
    "# graph.add_edge('generator', END)\n",
    "\n",
    "workflow = graph.compile()"
   ]
  },
  {
   "cell_type": "code",
   "execution_count": null,
   "id": "5405ee6e",
   "metadata": {},
   "outputs": [
    {
     "data": {
      "image/png": "[encoded data removed]",
      "text/plain": [
       "<langgraph.graph.state.CompiledStateGraph object at 0x000001B2FB1FB6E0>"
      ]
     },
     "execution_count": 28,
     "metadata": {},
     "output_type": "execute_result"
    }
   ],
   "source": [
    "workflow"
   ]
  },
  {
   "cell_type": "code",
   "execution_count": null,
   "id": "f5623c22",
   "metadata": {},
   "outputs": [],
   "source": [
    "initial_state = {\n",
    "    'dom' : dom,\n",
    "    'raw_element' : etree.tostring(a).decode(),\n",
    "    'raw_element_dom' : el\n",
    "}"
   ]
  },
  {
   "cell_type": "code",
   "execution_count": null,
   "id": "e6f5dacf",
   "metadata": {},
   "outputs": [
    {
     "data": {
      "text/plain": [
       "'<form action=\"/Account/Login\" autocomplete=\"off\" class=\"_causes-notifications\" id=\"loginForm\" method=\"post\"><div class=\"top-notifs hide-sm\"/><fieldset class=\"form-row\"><div class=\"label-wrap\"/><input class=\"in-text mp-no-track\" id=\"Email\" maxlength=\"100\" name=\"Email\" placeholder=\"Enter email...\" type=\"text\" value=\"\"/></fieldset><fieldset class=\"form-row\"/></form>'"
      ]
     },
     "execution_count": 32,
     "metadata": {},
     "output_type": "execute_result"
    }
   ],
   "source": [
    "'<form action=\"/Account/Login\" autocomplete=\"off\" class=\"_causes-notifications\" id=\"loginForm\" method=\"post\">'\n",
    "'   <div class=\"top-notifs hide-sm\"/>'\n",
    "'   <fieldset class=\"form-row\">'\n",
    "'       <div class=\"label-wrap\"/>'\n",
    "'           <input class=\"in-text mp-no-track\" id=\"Email\" maxlength=\"100\" name=\"Email\" placeholder=\"Enter email...\" type=\"text\" value=\"\"/>'\n",
    "'   </fieldset>'\n",
    "'   <fieldset class=\"form-row\"/>'\n",
    "'</form>'"
   ]
  },
  {
   "cell_type": "code",
   "execution_count": null,
   "id": "4c58bca1",
   "metadata": {},
   "outputs": [],
   "source": [
    "new_state = make_extract_element_node(reader)(initial_state)"
   ]
  },
  {
   "cell_type": "code",
   "execution_count": null,
   "id": "d15174c5",
   "metadata": {},
   "outputs": [
    {
     "ename": "AttributeError",
     "evalue": "'NoneType' object has no attribute 'tag'",
     "output_type": "error",
     "traceback": [
      "\u001b[1;31m---------------------------------------------------------------------------\u001b[0m",
      "\u001b[1;31mAttributeError\u001b[0m                            Traceback (most recent call last)",
      "Cell \u001b[1;32mIn[48], line 1\u001b[0m\n\u001b[1;32m----> 1\u001b[0m \u001b[43mmake_generate_locator_node\u001b[49m\u001b[43m(\u001b[49m\u001b[43mstrategies\u001b[49m\u001b[43m)\u001b[49m\u001b[43m(\u001b[49m\u001b[43mnew_state\u001b[49m\u001b[43m)\u001b[49m\n",
      "File \u001b[1;32mc:\\Users\\zubair.shaik\\Desktop\\xpathfinder\\main.py:26\u001b[0m, in \u001b[0;36mmake_generate_locator_node.<locals>.generate_locator\u001b[1;34m(state)\u001b[0m\n\u001b[0;32m     24\u001b[0m locators \u001b[38;5;241m=\u001b[39m []\n\u001b[0;32m     25\u001b[0m \u001b[38;5;28;01mfor\u001b[39;00m strategy \u001b[38;5;129;01min\u001b[39;00m strategies:\n\u001b[1;32m---> 26\u001b[0m     response \u001b[38;5;241m=\u001b[39m \u001b[43mstrategy\u001b[49m\u001b[38;5;241;43m.\u001b[39;49m\u001b[43mcreate\u001b[49m\u001b[43m(\u001b[49m\u001b[43mstate\u001b[49m\u001b[43m[\u001b[49m\u001b[38;5;124;43m'\u001b[39;49m\u001b[38;5;124;43melement\u001b[39;49m\u001b[38;5;124;43m'\u001b[39;49m\u001b[43m]\u001b[49m\u001b[43m,\u001b[49m\u001b[43m \u001b[49m\u001b[43mstate\u001b[49m\u001b[43m[\u001b[49m\u001b[38;5;124;43m'\u001b[39;49m\u001b[38;5;124;43melement_dom\u001b[39;49m\u001b[38;5;124;43m'\u001b[39;49m\u001b[43m]\u001b[49m\u001b[43m)\u001b[49m\n\u001b[0;32m     27\u001b[0m     locators\u001b[38;5;241m.\u001b[39mappend(response)\n\u001b[0;32m     29\u001b[0m state[\u001b[38;5;124m'\u001b[39m\u001b[38;5;124mlocators\u001b[39m\u001b[38;5;124m'\u001b[39m] \u001b[38;5;241m=\u001b[39m locators\n",
      "File \u001b[1;32mc:\\Users\\zubair.shaik\\Desktop\\xpathfinder\\generator\\locators\\CssSelectorLocator.py:20\u001b[0m, in \u001b[0;36mCssSelectorLocator.create\u001b[1;34m(self, element, elememt_dom)\u001b[0m\n\u001b[0;32m     11\u001b[0m \u001b[38;5;28;01mdef\u001b[39;00m\u001b[38;5;250m \u001b[39m\u001b[38;5;21mcreate\u001b[39m(\u001b[38;5;28mself\u001b[39m,\n\u001b[0;32m     12\u001b[0m            element : etree\u001b[38;5;241m.\u001b[39m_ElementTree,\n\u001b[0;32m     13\u001b[0m            elememt_dom : etree\u001b[38;5;241m.\u001b[39m_ElementTree) \u001b[38;5;241m-\u001b[39m\u001b[38;5;241m>\u001b[39m Locator:\n\u001b[0;32m     15\u001b[0m     loc \u001b[38;5;241m=\u001b[39m {\n\u001b[0;32m     16\u001b[0m         \u001b[38;5;124m'\u001b[39m\u001b[38;5;124mtype\u001b[39m\u001b[38;5;124m'\u001b[39m : \u001b[38;5;124m'\u001b[39m\u001b[38;5;124mcssSelector\u001b[39m\u001b[38;5;124m'\u001b[39m,\n\u001b[0;32m     17\u001b[0m         \u001b[38;5;124m'\u001b[39m\u001b[38;5;124mlocators\u001b[39m\u001b[38;5;124m'\u001b[39m : []\n\u001b[0;32m     18\u001b[0m     }\n\u001b[1;32m---> 20\u001b[0m     locators \u001b[38;5;241m=\u001b[39m \u001b[38;5;28;43mself\u001b[39;49m\u001b[38;5;241;43m.\u001b[39;49m\u001b[43mgenerator\u001b[49m\u001b[38;5;241;43m.\u001b[39;49m\u001b[43mrun\u001b[49m\u001b[43m(\u001b[49m\u001b[43melement\u001b[49m\u001b[43m,\u001b[49m\u001b[43m \u001b[49m\u001b[43melememt_dom\u001b[49m\u001b[43m)\u001b[49m\n\u001b[0;32m     22\u001b[0m     loc[\u001b[38;5;124m'\u001b[39m\u001b[38;5;124mlocators\u001b[39m\u001b[38;5;124m'\u001b[39m] \u001b[38;5;241m=\u001b[39m \u001b[38;5;28mlist\u001b[39m(locators)\n\u001b[0;32m     24\u001b[0m     \u001b[38;5;28;01mreturn\u001b[39;00m loc\n",
      "File \u001b[1;32mc:\\Users\\zubair.shaik\\Desktop\\xpathfinder\\generator\\helpers\\CssSelectorHelper.py:23\u001b[0m, in \u001b[0;36mCssSelectorHelper.run\u001b[1;34m(self, element, element_dom)\u001b[0m\n\u001b[0;32m     21\u001b[0m ele_selector \u001b[38;5;241m=\u001b[39m \u001b[38;5;28mself\u001b[39m\u001b[38;5;241m.\u001b[39mget_basic_selectors(element)\n\u001b[0;32m     22\u001b[0m \u001b[38;5;66;03m# locator using direct parent and element\u001b[39;00m\n\u001b[1;32m---> 23\u001b[0m direct_parent_selector \u001b[38;5;241m=\u001b[39m \u001b[38;5;28;43mself\u001b[39;49m\u001b[38;5;241;43m.\u001b[39;49m\u001b[43mfind_parent_locator\u001b[49m\u001b[43m(\u001b[49m\u001b[43mparents\u001b[49m\u001b[43m[\u001b[49m\u001b[38;5;241;43m0\u001b[39;49m\u001b[43m]\u001b[49m\u001b[43m,\u001b[49m\u001b[43m \u001b[49m\u001b[43mele_selector\u001b[49m\u001b[43m)\u001b[49m\n\u001b[0;32m     24\u001b[0m \u001b[38;5;66;03m# locator usgin direct sibling of element\u001b[39;00m\n\u001b[0;32m     25\u001b[0m direct_sibling_selector \u001b[38;5;241m=\u001b[39m \u001b[38;5;28mself\u001b[39m\u001b[38;5;241m.\u001b[39mfind_sibling_locator(element, parents[\u001b[38;5;241m0\u001b[39m], ele_selector)\n",
      "File \u001b[1;32mc:\\Users\\zubair.shaik\\Desktop\\xpathfinder\\generator\\helpers\\CssSelectorHelper.py:48\u001b[0m, in \u001b[0;36mCssSelectorHelper.find_parent_locator\u001b[1;34m(self, parent, ele_selector)\u001b[0m\n\u001b[0;32m     42\u001b[0m \u001b[38;5;250m\u001b[39m\u001b[38;5;124;03m\"\"\"\u001b[39;00m\n\u001b[0;32m     43\u001b[0m \u001b[38;5;124;03m    find selectors for element using its parent's locator\u001b[39;00m\n\u001b[0;32m     44\u001b[0m \u001b[38;5;124;03m    - parent - parent element\u001b[39;00m\n\u001b[0;32m     45\u001b[0m \u001b[38;5;124;03m    - ele_selector - elements css locators\u001b[39;00m\n\u001b[0;32m     46\u001b[0m \u001b[38;5;124;03m\"\"\"\u001b[39;00m\n\u001b[0;32m     47\u001b[0m direct_parent_selector \u001b[38;5;241m=\u001b[39m []\n\u001b[1;32m---> 48\u001b[0m direct_parent \u001b[38;5;241m=\u001b[39m \u001b[38;5;28;43mself\u001b[39;49m\u001b[38;5;241;43m.\u001b[39;49m\u001b[43mget_basic_selectors\u001b[49m\u001b[43m(\u001b[49m\u001b[43mparent\u001b[49m\u001b[43m)\u001b[49m\n\u001b[0;32m     50\u001b[0m \u001b[38;5;66;03m# selectors using direct parents\u001b[39;00m\n\u001b[0;32m     51\u001b[0m \u001b[38;5;28;01mfor\u001b[39;00m i \u001b[38;5;129;01min\u001b[39;00m direct_parent:\n",
      "File \u001b[1;32mc:\\Users\\zubair.shaik\\Desktop\\xpathfinder\\generator\\helpers\\CssSelectorHelper.py:95\u001b[0m, in \u001b[0;36mCssSelectorHelper.get_basic_selectors\u001b[1;34m(self, el)\u001b[0m\n\u001b[0;32m     87\u001b[0m \u001b[38;5;28;01mdef\u001b[39;00m\u001b[38;5;250m \u001b[39m\u001b[38;5;21mget_basic_selectors\u001b[39m(\u001b[38;5;28mself\u001b[39m, el : etree\u001b[38;5;241m.\u001b[39m_ElementTree) \u001b[38;5;241m-\u001b[39m\u001b[38;5;241m>\u001b[39m List[\u001b[38;5;28mstr\u001b[39m]:\n\u001b[0;32m     88\u001b[0m \u001b[38;5;250m    \u001b[39m\u001b[38;5;124;03m\"\"\"\u001b[39;00m\n\u001b[0;32m     89\u001b[0m \u001b[38;5;124;03m    Generate basic CSS selectors for an element:\u001b[39;00m\n\u001b[0;32m     90\u001b[0m \u001b[38;5;124;03m    - id\u001b[39;00m\n\u001b[1;32m   (...)\u001b[0m\n\u001b[0;32m     93\u001b[0m \u001b[38;5;124;03m    - attributes like name, type, aria-label, alt\u001b[39;00m\n\u001b[0;32m     94\u001b[0m \u001b[38;5;124;03m    \"\"\"\u001b[39;00m\n\u001b[1;32m---> 95\u001b[0m     tag \u001b[38;5;241m=\u001b[39m \u001b[43mel\u001b[49m\u001b[38;5;241;43m.\u001b[39;49m\u001b[43mtag\u001b[49m\n\u001b[0;32m     96\u001b[0m     selectors \u001b[38;5;241m=\u001b[39m [tag]\n\u001b[0;32m     98\u001b[0m     \u001b[38;5;66;03m# ID selector\u001b[39;00m\n",
      "\u001b[1;31mAttributeError\u001b[0m: 'NoneType' object has no attribute 'tag'"
     ]
    }
   ],
   "source": [
    "make_generate_locator_node(strategies)(new_state)"
   ]
  },
  {
   "cell_type": "code",
   "execution_count": null,
   "id": "6c3b2e1a",
   "metadata": {},
   "outputs": [
    {
     "ename": "AttributeError",
     "evalue": "'NoneType' object has no attribute 'tag'",
     "output_type": "error",
     "traceback": [
      "\u001b[1;31m---------------------------------------------------------------------------\u001b[0m",
      "\u001b[1;31mAttributeError\u001b[0m                            Traceback (most recent call last)",
      "Cell \u001b[1;32mIn[31], line 1\u001b[0m\n\u001b[1;32m----> 1\u001b[0m \u001b[43mworkflow\u001b[49m\u001b[38;5;241;43m.\u001b[39;49m\u001b[43minvoke\u001b[49m\u001b[43m(\u001b[49m\u001b[43minitial_state\u001b[49m\u001b[43m)\u001b[49m\n",
      "File \u001b[1;32mc:\\Users\\zubair.shaik\\AppData\\Local\\Programs\\Python\\Python312\\Lib\\site-packages\\langgraph\\pregel\\main.py:3026\u001b[0m, in \u001b[0;36mPregel.invoke\u001b[1;34m(self, input, config, context, stream_mode, print_mode, output_keys, interrupt_before, interrupt_after, durability, **kwargs)\u001b[0m\n\u001b[0;32m   3023\u001b[0m chunks: \u001b[38;5;28mlist\u001b[39m[\u001b[38;5;28mdict\u001b[39m[\u001b[38;5;28mstr\u001b[39m, Any] \u001b[38;5;241m|\u001b[39m Any] \u001b[38;5;241m=\u001b[39m []\n\u001b[0;32m   3024\u001b[0m interrupts: \u001b[38;5;28mlist\u001b[39m[Interrupt] \u001b[38;5;241m=\u001b[39m []\n\u001b[1;32m-> 3026\u001b[0m \u001b[43m\u001b[49m\u001b[38;5;28;43;01mfor\u001b[39;49;00m\u001b[43m \u001b[49m\u001b[43mchunk\u001b[49m\u001b[43m \u001b[49m\u001b[38;5;129;43;01min\u001b[39;49;00m\u001b[43m \u001b[49m\u001b[38;5;28;43mself\u001b[39;49m\u001b[38;5;241;43m.\u001b[39;49m\u001b[43mstream\u001b[49m\u001b[43m(\u001b[49m\n\u001b[0;32m   3027\u001b[0m \u001b[43m    \u001b[49m\u001b[38;5;28;43minput\u001b[39;49m\u001b[43m,\u001b[49m\n\u001b[0;32m   3028\u001b[0m \u001b[43m    \u001b[49m\u001b[43mconfig\u001b[49m\u001b[43m,\u001b[49m\n\u001b[0;32m   3029\u001b[0m \u001b[43m    \u001b[49m\u001b[43mcontext\u001b[49m\u001b[38;5;241;43m=\u001b[39;49m\u001b[43mcontext\u001b[49m\u001b[43m,\u001b[49m\n\u001b[0;32m   3030\u001b[0m \u001b[43m    \u001b[49m\u001b[43mstream_mode\u001b[49m\u001b[38;5;241;43m=\u001b[39;49m\u001b[43m[\u001b[49m\u001b[38;5;124;43m\"\u001b[39;49m\u001b[38;5;124;43mupdates\u001b[39;49m\u001b[38;5;124;43m\"\u001b[39;49m\u001b[43m,\u001b[49m\u001b[43m \u001b[49m\u001b[38;5;124;43m\"\u001b[39;49m\u001b[38;5;124;43mvalues\u001b[39;49m\u001b[38;5;124;43m\"\u001b[39;49m\u001b[43m]\u001b[49m\n\u001b[0;32m   3031\u001b[0m \u001b[43m    \u001b[49m\u001b[38;5;28;43;01mif\u001b[39;49;00m\u001b[43m \u001b[49m\u001b[43mstream_mode\u001b[49m\u001b[43m \u001b[49m\u001b[38;5;241;43m==\u001b[39;49m\u001b[43m \u001b[49m\u001b[38;5;124;43m\"\u001b[39;49m\u001b[38;5;124;43mvalues\u001b[39;49m\u001b[38;5;124;43m\"\u001b[39;49m\n\u001b[0;32m   3032\u001b[0m \u001b[43m    \u001b[49m\u001b[38;5;28;43;01melse\u001b[39;49;00m\u001b[43m \u001b[49m\u001b[43mstream_mode\u001b[49m\u001b[43m,\u001b[49m\n\u001b[0;32m   3033\u001b[0m \u001b[43m    \u001b[49m\u001b[43mprint_mode\u001b[49m\u001b[38;5;241;43m=\u001b[39;49m\u001b[43mprint_mode\u001b[49m\u001b[43m,\u001b[49m\n\u001b[0;32m   3034\u001b[0m \u001b[43m    \u001b[49m\u001b[43moutput_keys\u001b[49m\u001b[38;5;241;43m=\u001b[39;49m\u001b[43moutput_keys\u001b[49m\u001b[43m,\u001b[49m\n\u001b[0;32m   3035\u001b[0m \u001b[43m    \u001b[49m\u001b[43minterrupt_before\u001b[49m\u001b[38;5;241;43m=\u001b[39;49m\u001b[43minterrupt_before\u001b[49m\u001b[43m,\u001b[49m\n\u001b[0;32m   3036\u001b[0m \u001b[43m    \u001b[49m\u001b[43minterrupt_after\u001b[49m\u001b[38;5;241;43m=\u001b[39;49m\u001b[43minterrupt_after\u001b[49m\u001b[43m,\u001b[49m\n\u001b[0;32m   3037\u001b[0m \u001b[43m    \u001b[49m\u001b[43mdurability\u001b[49m\u001b[38;5;241;43m=\u001b[39;49m\u001b[43mdurability\u001b[49m\u001b[43m,\u001b[49m\n\u001b[0;32m   3038\u001b[0m \u001b[43m    \u001b[49m\u001b[38;5;241;43m*\u001b[39;49m\u001b[38;5;241;43m*\u001b[39;49m\u001b[43mkwargs\u001b[49m\u001b[43m,\u001b[49m\n\u001b[0;32m   3039\u001b[0m \u001b[43m\u001b[49m\u001b[43m)\u001b[49m\u001b[43m:\u001b[49m\n\u001b[0;32m   3040\u001b[0m \u001b[43m    \u001b[49m\u001b[38;5;28;43;01mif\u001b[39;49;00m\u001b[43m \u001b[49m\u001b[43mstream_mode\u001b[49m\u001b[43m \u001b[49m\u001b[38;5;241;43m==\u001b[39;49m\u001b[43m \u001b[49m\u001b[38;5;124;43m\"\u001b[39;49m\u001b[38;5;124;43mvalues\u001b[39;49m\u001b[38;5;124;43m\"\u001b[39;49m\u001b[43m:\u001b[49m\n\u001b[0;32m   3041\u001b[0m \u001b[43m        \u001b[49m\u001b[38;5;28;43;01mif\u001b[39;49;00m\u001b[43m \u001b[49m\u001b[38;5;28;43mlen\u001b[39;49m\u001b[43m(\u001b[49m\u001b[43mchunk\u001b[49m\u001b[43m)\u001b[49m\u001b[43m \u001b[49m\u001b[38;5;241;43m==\u001b[39;49m\u001b[43m \u001b[49m\u001b[38;5;241;43m2\u001b[39;49m\u001b[43m:\u001b[49m\n",
      "File \u001b[1;32mc:\\Users\\zubair.shaik\\AppData\\Local\\Programs\\Python\\Python312\\Lib\\site-packages\\langgraph\\pregel\\main.py:2647\u001b[0m, in \u001b[0;36mPregel.stream\u001b[1;34m(self, input, config, context, stream_mode, print_mode, output_keys, interrupt_before, interrupt_after, durability, subgraphs, debug, **kwargs)\u001b[0m\n\u001b[0;32m   2645\u001b[0m \u001b[38;5;28;01mfor\u001b[39;00m task \u001b[38;5;129;01min\u001b[39;00m loop\u001b[38;5;241m.\u001b[39mmatch_cached_writes():\n\u001b[0;32m   2646\u001b[0m     loop\u001b[38;5;241m.\u001b[39moutput_writes(task\u001b[38;5;241m.\u001b[39mid, task\u001b[38;5;241m.\u001b[39mwrites, cached\u001b[38;5;241m=\u001b[39m\u001b[38;5;28;01mTrue\u001b[39;00m)\n\u001b[1;32m-> 2647\u001b[0m \u001b[43m\u001b[49m\u001b[38;5;28;43;01mfor\u001b[39;49;00m\u001b[43m \u001b[49m\u001b[43m_\u001b[49m\u001b[43m \u001b[49m\u001b[38;5;129;43;01min\u001b[39;49;00m\u001b[43m \u001b[49m\u001b[43mrunner\u001b[49m\u001b[38;5;241;43m.\u001b[39;49m\u001b[43mtick\u001b[49m\u001b[43m(\u001b[49m\n\u001b[0;32m   2648\u001b[0m \u001b[43m    \u001b[49m\u001b[43m[\u001b[49m\u001b[43mt\u001b[49m\u001b[43m \u001b[49m\u001b[38;5;28;43;01mfor\u001b[39;49;00m\u001b[43m \u001b[49m\u001b[43mt\u001b[49m\u001b[43m \u001b[49m\u001b[38;5;129;43;01min\u001b[39;49;00m\u001b[43m \u001b[49m\u001b[43mloop\u001b[49m\u001b[38;5;241;43m.\u001b[39;49m\u001b[43mtasks\u001b[49m\u001b[38;5;241;43m.\u001b[39;49m\u001b[43mvalues\u001b[49m\u001b[43m(\u001b[49m\u001b[43m)\u001b[49m\u001b[43m \u001b[49m\u001b[38;5;28;43;01mif\u001b[39;49;00m\u001b[43m \u001b[49m\u001b[38;5;129;43;01mnot\u001b[39;49;00m\u001b[43m \u001b[49m\u001b[43mt\u001b[49m\u001b[38;5;241;43m.\u001b[39;49m\u001b[43mwrites\u001b[49m\u001b[43m]\u001b[49m\u001b[43m,\u001b[49m\n\u001b[0;32m   2649\u001b[0m \u001b[43m    \u001b[49m\u001b[43mtimeout\u001b[49m\u001b[38;5;241;43m=\u001b[39;49m\u001b[38;5;28;43mself\u001b[39;49m\u001b[38;5;241;43m.\u001b[39;49m\u001b[43mstep_timeout\u001b[49m\u001b[43m,\u001b[49m\n\u001b[0;32m   2650\u001b[0m \u001b[43m    \u001b[49m\u001b[43mget_waiter\u001b[49m\u001b[38;5;241;43m=\u001b[39;49m\u001b[43mget_waiter\u001b[49m\u001b[43m,\u001b[49m\n\u001b[0;32m   2651\u001b[0m \u001b[43m    \u001b[49m\u001b[43mschedule_task\u001b[49m\u001b[38;5;241;43m=\u001b[39;49m\u001b[43mloop\u001b[49m\u001b[38;5;241;43m.\u001b[39;49m\u001b[43maccept_push\u001b[49m\u001b[43m,\u001b[49m\n\u001b[0;32m   2652\u001b[0m \u001b[43m\u001b[49m\u001b[43m)\u001b[49m\u001b[43m:\u001b[49m\n\u001b[0;32m   2653\u001b[0m \u001b[43m    \u001b[49m\u001b[38;5;66;43;03m# emit output\u001b[39;49;00m\n\u001b[0;32m   2654\u001b[0m \u001b[43m    \u001b[49m\u001b[38;5;28;43;01myield from\u001b[39;49;00m\u001b[43m \u001b[49m\u001b[43m_output\u001b[49m\u001b[43m(\u001b[49m\n\u001b[0;32m   2655\u001b[0m \u001b[43m        \u001b[49m\u001b[43mstream_mode\u001b[49m\u001b[43m,\u001b[49m\u001b[43m \u001b[49m\u001b[43mprint_mode\u001b[49m\u001b[43m,\u001b[49m\u001b[43m \u001b[49m\u001b[43msubgraphs\u001b[49m\u001b[43m,\u001b[49m\u001b[43m \u001b[49m\u001b[43mstream\u001b[49m\u001b[38;5;241;43m.\u001b[39;49m\u001b[43mget\u001b[49m\u001b[43m,\u001b[49m\u001b[43m \u001b[49m\u001b[43mqueue\u001b[49m\u001b[38;5;241;43m.\u001b[39;49m\u001b[43mEmpty\u001b[49m\n\u001b[0;32m   2656\u001b[0m \u001b[43m    \u001b[49m\u001b[43m)\u001b[49m\n\u001b[0;32m   2657\u001b[0m loop\u001b[38;5;241m.\u001b[39mafter_tick()\n",
      "File \u001b[1;32mc:\\Users\\zubair.shaik\\AppData\\Local\\Programs\\Python\\Python312\\Lib\\site-packages\\langgraph\\pregel\\_runner.py:162\u001b[0m, in \u001b[0;36mPregelRunner.tick\u001b[1;34m(self, tasks, reraise, timeout, retry_policy, get_waiter, schedule_task)\u001b[0m\n\u001b[0;32m    160\u001b[0m t \u001b[38;5;241m=\u001b[39m tasks[\u001b[38;5;241m0\u001b[39m]\n\u001b[0;32m    161\u001b[0m \u001b[38;5;28;01mtry\u001b[39;00m:\n\u001b[1;32m--> 162\u001b[0m     \u001b[43mrun_with_retry\u001b[49m\u001b[43m(\u001b[49m\n\u001b[0;32m    163\u001b[0m \u001b[43m        \u001b[49m\u001b[43mt\u001b[49m\u001b[43m,\u001b[49m\n\u001b[0;32m    164\u001b[0m \u001b[43m        \u001b[49m\u001b[43mretry_policy\u001b[49m\u001b[43m,\u001b[49m\n\u001b[0;32m    165\u001b[0m \u001b[43m        \u001b[49m\u001b[43mconfigurable\u001b[49m\u001b[38;5;241;43m=\u001b[39;49m\u001b[43m{\u001b[49m\n\u001b[0;32m    166\u001b[0m \u001b[43m            \u001b[49m\u001b[43mCONFIG_KEY_CALL\u001b[49m\u001b[43m:\u001b[49m\u001b[43m \u001b[49m\u001b[43mpartial\u001b[49m\u001b[43m(\u001b[49m\n\u001b[0;32m    167\u001b[0m \u001b[43m                \u001b[49m\u001b[43m_call\u001b[49m\u001b[43m,\u001b[49m\n\u001b[0;32m    168\u001b[0m \u001b[43m                \u001b[49m\u001b[43mweakref\u001b[49m\u001b[38;5;241;43m.\u001b[39;49m\u001b[43mref\u001b[49m\u001b[43m(\u001b[49m\u001b[43mt\u001b[49m\u001b[43m)\u001b[49m\u001b[43m,\u001b[49m\n\u001b[0;32m    169\u001b[0m \u001b[43m                \u001b[49m\u001b[43mretry_policy\u001b[49m\u001b[38;5;241;43m=\u001b[39;49m\u001b[43mretry_policy\u001b[49m\u001b[43m,\u001b[49m\n\u001b[0;32m    170\u001b[0m \u001b[43m                \u001b[49m\u001b[43mfutures\u001b[49m\u001b[38;5;241;43m=\u001b[39;49m\u001b[43mweakref\u001b[49m\u001b[38;5;241;43m.\u001b[39;49m\u001b[43mref\u001b[49m\u001b[43m(\u001b[49m\u001b[43mfutures\u001b[49m\u001b[43m)\u001b[49m\u001b[43m,\u001b[49m\n\u001b[0;32m    171\u001b[0m \u001b[43m                \u001b[49m\u001b[43mschedule_task\u001b[49m\u001b[38;5;241;43m=\u001b[39;49m\u001b[43mschedule_task\u001b[49m\u001b[43m,\u001b[49m\n\u001b[0;32m    172\u001b[0m \u001b[43m                \u001b[49m\u001b[43msubmit\u001b[49m\u001b[38;5;241;43m=\u001b[39;49m\u001b[38;5;28;43mself\u001b[39;49m\u001b[38;5;241;43m.\u001b[39;49m\u001b[43msubmit\u001b[49m\u001b[43m,\u001b[49m\n\u001b[0;32m    173\u001b[0m \u001b[43m            \u001b[49m\u001b[43m)\u001b[49m\u001b[43m,\u001b[49m\n\u001b[0;32m    174\u001b[0m \u001b[43m        \u001b[49m\u001b[43m}\u001b[49m\u001b[43m,\u001b[49m\n\u001b[0;32m    175\u001b[0m \u001b[43m    \u001b[49m\u001b[43m)\u001b[49m\n\u001b[0;32m    176\u001b[0m     \u001b[38;5;28mself\u001b[39m\u001b[38;5;241m.\u001b[39mcommit(t, \u001b[38;5;28;01mNone\u001b[39;00m)\n\u001b[0;32m    177\u001b[0m \u001b[38;5;28;01mexcept\u001b[39;00m \u001b[38;5;167;01mException\u001b[39;00m \u001b[38;5;28;01mas\u001b[39;00m exc:\n",
      "File \u001b[1;32mc:\\Users\\zubair.shaik\\AppData\\Local\\Programs\\Python\\Python312\\Lib\\site-packages\\langgraph\\pregel\\_retry.py:42\u001b[0m, in \u001b[0;36mrun_with_retry\u001b[1;34m(task, retry_policy, configurable)\u001b[0m\n\u001b[0;32m     40\u001b[0m     task\u001b[38;5;241m.\u001b[39mwrites\u001b[38;5;241m.\u001b[39mclear()\n\u001b[0;32m     41\u001b[0m     \u001b[38;5;66;03m# run the task\u001b[39;00m\n\u001b[1;32m---> 42\u001b[0m     \u001b[38;5;28;01mreturn\u001b[39;00m \u001b[43mtask\u001b[49m\u001b[38;5;241;43m.\u001b[39;49m\u001b[43mproc\u001b[49m\u001b[38;5;241;43m.\u001b[39;49m\u001b[43minvoke\u001b[49m\u001b[43m(\u001b[49m\u001b[43mtask\u001b[49m\u001b[38;5;241;43m.\u001b[39;49m\u001b[43minput\u001b[49m\u001b[43m,\u001b[49m\u001b[43m \u001b[49m\u001b[43mconfig\u001b[49m\u001b[43m)\u001b[49m\n\u001b[0;32m     43\u001b[0m \u001b[38;5;28;01mexcept\u001b[39;00m ParentCommand \u001b[38;5;28;01mas\u001b[39;00m exc:\n\u001b[0;32m     44\u001b[0m     ns: \u001b[38;5;28mstr\u001b[39m \u001b[38;5;241m=\u001b[39m config[CONF][CONFIG_KEY_CHECKPOINT_NS]\n",
      "File \u001b[1;32mc:\\Users\\zubair.shaik\\AppData\\Local\\Programs\\Python\\Python312\\Lib\\site-packages\\langgraph\\_internal\\_runnable.py:657\u001b[0m, in \u001b[0;36mRunnableSeq.invoke\u001b[1;34m(self, input, config, **kwargs)\u001b[0m\n\u001b[0;32m    655\u001b[0m     \u001b[38;5;66;03m# run in context\u001b[39;00m\n\u001b[0;32m    656\u001b[0m     \u001b[38;5;28;01mwith\u001b[39;00m set_config_context(config, run) \u001b[38;5;28;01mas\u001b[39;00m context:\n\u001b[1;32m--> 657\u001b[0m         \u001b[38;5;28minput\u001b[39m \u001b[38;5;241m=\u001b[39m \u001b[43mcontext\u001b[49m\u001b[38;5;241;43m.\u001b[39;49m\u001b[43mrun\u001b[49m\u001b[43m(\u001b[49m\u001b[43mstep\u001b[49m\u001b[38;5;241;43m.\u001b[39;49m\u001b[43minvoke\u001b[49m\u001b[43m,\u001b[49m\u001b[43m \u001b[49m\u001b[38;5;28;43minput\u001b[39;49m\u001b[43m,\u001b[49m\u001b[43m \u001b[49m\u001b[43mconfig\u001b[49m\u001b[43m,\u001b[49m\u001b[43m \u001b[49m\u001b[38;5;241;43m*\u001b[39;49m\u001b[38;5;241;43m*\u001b[39;49m\u001b[43mkwargs\u001b[49m\u001b[43m)\u001b[49m\n\u001b[0;32m    658\u001b[0m \u001b[38;5;28;01melse\u001b[39;00m:\n\u001b[0;32m    659\u001b[0m     \u001b[38;5;28minput\u001b[39m \u001b[38;5;241m=\u001b[39m step\u001b[38;5;241m.\u001b[39minvoke(\u001b[38;5;28minput\u001b[39m, config)\n",
      "File \u001b[1;32mc:\\Users\\zubair.shaik\\AppData\\Local\\Programs\\Python\\Python312\\Lib\\site-packages\\langgraph\\_internal\\_runnable.py:401\u001b[0m, in \u001b[0;36mRunnableCallable.invoke\u001b[1;34m(self, input, config, **kwargs)\u001b[0m\n\u001b[0;32m    399\u001b[0m         run_manager\u001b[38;5;241m.\u001b[39mon_chain_end(ret)\n\u001b[0;32m    400\u001b[0m \u001b[38;5;28;01melse\u001b[39;00m:\n\u001b[1;32m--> 401\u001b[0m     ret \u001b[38;5;241m=\u001b[39m \u001b[38;5;28;43mself\u001b[39;49m\u001b[38;5;241;43m.\u001b[39;49m\u001b[43mfunc\u001b[49m\u001b[43m(\u001b[49m\u001b[38;5;241;43m*\u001b[39;49m\u001b[43margs\u001b[49m\u001b[43m,\u001b[49m\u001b[43m \u001b[49m\u001b[38;5;241;43m*\u001b[39;49m\u001b[38;5;241;43m*\u001b[39;49m\u001b[43mkwargs\u001b[49m\u001b[43m)\u001b[49m\n\u001b[0;32m    402\u001b[0m \u001b[38;5;28;01mif\u001b[39;00m \u001b[38;5;28mself\u001b[39m\u001b[38;5;241m.\u001b[39mrecurse \u001b[38;5;129;01mand\u001b[39;00m \u001b[38;5;28misinstance\u001b[39m(ret, Runnable):\n\u001b[0;32m    403\u001b[0m     \u001b[38;5;28;01mreturn\u001b[39;00m ret\u001b[38;5;241m.\u001b[39minvoke(\u001b[38;5;28minput\u001b[39m, config)\n",
      "File \u001b[1;32mc:\\Users\\zubair.shaik\\Desktop\\xpathfinder\\main.py:26\u001b[0m, in \u001b[0;36mmake_generate_locator_node.<locals>.generate_locator\u001b[1;34m(state)\u001b[0m\n\u001b[0;32m     24\u001b[0m locators \u001b[38;5;241m=\u001b[39m []\n\u001b[0;32m     25\u001b[0m \u001b[38;5;28;01mfor\u001b[39;00m strategy \u001b[38;5;129;01min\u001b[39;00m strategies:\n\u001b[1;32m---> 26\u001b[0m     response \u001b[38;5;241m=\u001b[39m \u001b[43mstrategy\u001b[49m\u001b[38;5;241;43m.\u001b[39;49m\u001b[43mcreate\u001b[49m\u001b[43m(\u001b[49m\u001b[43mstate\u001b[49m\u001b[43m[\u001b[49m\u001b[38;5;124;43m'\u001b[39;49m\u001b[38;5;124;43melement\u001b[39;49m\u001b[38;5;124;43m'\u001b[39;49m\u001b[43m]\u001b[49m\u001b[43m,\u001b[49m\u001b[43m \u001b[49m\u001b[43mstate\u001b[49m\u001b[43m[\u001b[49m\u001b[38;5;124;43m'\u001b[39;49m\u001b[38;5;124;43melement_dom\u001b[39;49m\u001b[38;5;124;43m'\u001b[39;49m\u001b[43m]\u001b[49m\u001b[43m)\u001b[49m\n\u001b[0;32m     27\u001b[0m     locators\u001b[38;5;241m.\u001b[39mappend(response)\n\u001b[0;32m     29\u001b[0m state[\u001b[38;5;124m'\u001b[39m\u001b[38;5;124mlocators\u001b[39m\u001b[38;5;124m'\u001b[39m] \u001b[38;5;241m=\u001b[39m locators\n",
      "File \u001b[1;32mc:\\Users\\zubair.shaik\\Desktop\\xpathfinder\\generator\\locators\\CssSelectorLocator.py:20\u001b[0m, in \u001b[0;36mCssSelectorLocator.create\u001b[1;34m(self, element, elememt_dom)\u001b[0m\n\u001b[0;32m     11\u001b[0m \u001b[38;5;28;01mdef\u001b[39;00m\u001b[38;5;250m \u001b[39m\u001b[38;5;21mcreate\u001b[39m(\u001b[38;5;28mself\u001b[39m,\n\u001b[0;32m     12\u001b[0m            element : etree\u001b[38;5;241m.\u001b[39m_ElementTree,\n\u001b[0;32m     13\u001b[0m            elememt_dom : etree\u001b[38;5;241m.\u001b[39m_ElementTree) \u001b[38;5;241m-\u001b[39m\u001b[38;5;241m>\u001b[39m Locator:\n\u001b[0;32m     15\u001b[0m     loc \u001b[38;5;241m=\u001b[39m {\n\u001b[0;32m     16\u001b[0m         \u001b[38;5;124m'\u001b[39m\u001b[38;5;124mtype\u001b[39m\u001b[38;5;124m'\u001b[39m : \u001b[38;5;124m'\u001b[39m\u001b[38;5;124mcssSelector\u001b[39m\u001b[38;5;124m'\u001b[39m,\n\u001b[0;32m     17\u001b[0m         \u001b[38;5;124m'\u001b[39m\u001b[38;5;124mlocators\u001b[39m\u001b[38;5;124m'\u001b[39m : []\n\u001b[0;32m     18\u001b[0m     }\n\u001b[1;32m---> 20\u001b[0m     locators \u001b[38;5;241m=\u001b[39m \u001b[38;5;28;43mself\u001b[39;49m\u001b[38;5;241;43m.\u001b[39;49m\u001b[43mgenerator\u001b[49m\u001b[38;5;241;43m.\u001b[39;49m\u001b[43mrun\u001b[49m\u001b[43m(\u001b[49m\u001b[43melement\u001b[49m\u001b[43m,\u001b[49m\u001b[43m \u001b[49m\u001b[43melememt_dom\u001b[49m\u001b[43m)\u001b[49m\n\u001b[0;32m     22\u001b[0m     loc[\u001b[38;5;124m'\u001b[39m\u001b[38;5;124mlocators\u001b[39m\u001b[38;5;124m'\u001b[39m] \u001b[38;5;241m=\u001b[39m \u001b[38;5;28mlist\u001b[39m(locators)\n\u001b[0;32m     24\u001b[0m     \u001b[38;5;28;01mreturn\u001b[39;00m loc\n",
      "File \u001b[1;32mc:\\Users\\zubair.shaik\\Desktop\\xpathfinder\\generator\\helpers\\CssSelectorHelper.py:23\u001b[0m, in \u001b[0;36mCssSelectorHelper.run\u001b[1;34m(self, element, element_dom)\u001b[0m\n\u001b[0;32m     21\u001b[0m ele_selector \u001b[38;5;241m=\u001b[39m \u001b[38;5;28mself\u001b[39m\u001b[38;5;241m.\u001b[39mget_basic_selectors(element)\n\u001b[0;32m     22\u001b[0m \u001b[38;5;66;03m# locator using direct parent and element\u001b[39;00m\n\u001b[1;32m---> 23\u001b[0m direct_parent_selector \u001b[38;5;241m=\u001b[39m \u001b[38;5;28;43mself\u001b[39;49m\u001b[38;5;241;43m.\u001b[39;49m\u001b[43mfind_parent_locator\u001b[49m\u001b[43m(\u001b[49m\u001b[43mparents\u001b[49m\u001b[43m[\u001b[49m\u001b[38;5;241;43m0\u001b[39;49m\u001b[43m]\u001b[49m\u001b[43m,\u001b[49m\u001b[43m \u001b[49m\u001b[43mele_selector\u001b[49m\u001b[43m)\u001b[49m\n\u001b[0;32m     24\u001b[0m \u001b[38;5;66;03m# locator usgin direct sibling of element\u001b[39;00m\n\u001b[0;32m     25\u001b[0m direct_sibling_selector \u001b[38;5;241m=\u001b[39m \u001b[38;5;28mself\u001b[39m\u001b[38;5;241m.\u001b[39mfind_sibling_locator(element, parents[\u001b[38;5;241m0\u001b[39m], ele_selector)\n",
      "File \u001b[1;32mc:\\Users\\zubair.shaik\\Desktop\\xpathfinder\\generator\\helpers\\CssSelectorHelper.py:48\u001b[0m, in \u001b[0;36mCssSelectorHelper.find_parent_locator\u001b[1;34m(self, parent, ele_selector)\u001b[0m\n\u001b[0;32m     42\u001b[0m \u001b[38;5;250m\u001b[39m\u001b[38;5;124;03m\"\"\"\u001b[39;00m\n\u001b[0;32m     43\u001b[0m \u001b[38;5;124;03m    find selectors for element using its parent's locator\u001b[39;00m\n\u001b[0;32m     44\u001b[0m \u001b[38;5;124;03m    - parent - parent element\u001b[39;00m\n\u001b[0;32m     45\u001b[0m \u001b[38;5;124;03m    - ele_selector - elements css locators\u001b[39;00m\n\u001b[0;32m     46\u001b[0m \u001b[38;5;124;03m\"\"\"\u001b[39;00m\n\u001b[0;32m     47\u001b[0m direct_parent_selector \u001b[38;5;241m=\u001b[39m []\n\u001b[1;32m---> 48\u001b[0m direct_parent \u001b[38;5;241m=\u001b[39m \u001b[38;5;28;43mself\u001b[39;49m\u001b[38;5;241;43m.\u001b[39;49m\u001b[43mget_basic_selectors\u001b[49m\u001b[43m(\u001b[49m\u001b[43mparent\u001b[49m\u001b[43m)\u001b[49m\n\u001b[0;32m     50\u001b[0m \u001b[38;5;66;03m# selectors using direct parents\u001b[39;00m\n\u001b[0;32m     51\u001b[0m \u001b[38;5;28;01mfor\u001b[39;00m i \u001b[38;5;129;01min\u001b[39;00m direct_parent:\n",
      "File \u001b[1;32mc:\\Users\\zubair.shaik\\Desktop\\xpathfinder\\generator\\helpers\\CssSelectorHelper.py:95\u001b[0m, in \u001b[0;36mCssSelectorHelper.get_basic_selectors\u001b[1;34m(self, el)\u001b[0m\n\u001b[0;32m     87\u001b[0m \u001b[38;5;28;01mdef\u001b[39;00m\u001b[38;5;250m \u001b[39m\u001b[38;5;21mget_basic_selectors\u001b[39m(\u001b[38;5;28mself\u001b[39m, el : etree\u001b[38;5;241m.\u001b[39m_ElementTree) \u001b[38;5;241m-\u001b[39m\u001b[38;5;241m>\u001b[39m List[\u001b[38;5;28mstr\u001b[39m]:\n\u001b[0;32m     88\u001b[0m \u001b[38;5;250m    \u001b[39m\u001b[38;5;124;03m\"\"\"\u001b[39;00m\n\u001b[0;32m     89\u001b[0m \u001b[38;5;124;03m    Generate basic CSS selectors for an element:\u001b[39;00m\n\u001b[0;32m     90\u001b[0m \u001b[38;5;124;03m    - id\u001b[39;00m\n\u001b[1;32m   (...)\u001b[0m\n\u001b[0;32m     93\u001b[0m \u001b[38;5;124;03m    - attributes like name, type, aria-label, alt\u001b[39;00m\n\u001b[0;32m     94\u001b[0m \u001b[38;5;124;03m    \"\"\"\u001b[39;00m\n\u001b[1;32m---> 95\u001b[0m     tag \u001b[38;5;241m=\u001b[39m \u001b[43mel\u001b[49m\u001b[38;5;241;43m.\u001b[39;49m\u001b[43mtag\u001b[49m\n\u001b[0;32m     96\u001b[0m     selectors \u001b[38;5;241m=\u001b[39m [tag]\n\u001b[0;32m     98\u001b[0m     \u001b[38;5;66;03m# ID selector\u001b[39;00m\n",
      "\u001b[1;31mAttributeError\u001b[0m: 'NoneType' object has no attribute 'tag'",
      "\u001b[0mDuring task with name 'generator' and id 'afbdd510-5207-e036-1605-a2393c2b577a'"
     ]
    }
   ],
   "source": [
    "workflow.invoke(initial_state)"
   ]
  },
  {
   "cell_type": "code",
   "execution_count": null,
   "id": "5d560c8a",
   "metadata": {},
   "outputs": [],
   "source": []
  }
 ],
 "metadata": {
  "kernelspec": {
   "display_name": "Python 3",
   "language": "python",
   "name": "python3"
  },
  "language_info": {
   "codemirror_mode": {
    "name": "ipython",
    "version": 3
   },
   "file_extension": ".py",
   "mimetype": "text/x-python",
   "name": "python",
   "nbconvert_exporter": "python",
   "pygments_lexer": "ipython3",
   "version": "3.12.9"
  }
 },
 "nbformat": 4,
 "nbformat_minor": 5
}
