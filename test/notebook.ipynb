{
 "cells": [
  {
   "cell_type": "code",
   "execution_count": 60,
   "id": "0657459d",
   "metadata": {},
   "outputs": [],
   "source": [
    "from lxml import html\n",
    "from bs4 import BeautifulSoup"
   ]
  },
  {
   "cell_type": "code",
   "execution_count": 61,
   "id": "4daa7231",
   "metadata": {},
   "outputs": [],
   "source": [
    "dom= html.parse('dom.xml')"
   ]
  },
  {
   "cell_type": "code",
   "execution_count": null,
   "id": "e35e62cc",
   "metadata": {},
   "outputs": [],
   "source": [
    "raw_ele = \"\"\"\n",
    "<div class=\"entry-content-wrap\">\n",
    "    <header class=\"entry-header post-title title-align-left title-tablet-align-inherit title-mobile-align-inherit\"></header>\n",
    "    <div class=\"entry-content single-content\">\n",
    "        <h2 id=\"automation-testing-interview-questions-and-answers-for-freshers\"></h2>\n",
    "        <h3 id=\"1-what-is-automation-testing\">1) What is Automation testing?</h3>\n",
    "        <p></p>\n",
    "    </div>\n",
    "</div>\n",
    "\"\"\""
   ]
  },
  {
   "cell_type": "code",
   "execution_count": 63,
   "id": "9f79cb22",
   "metadata": {},
   "outputs": [],
   "source": [
    "soup = BeautifulSoup(raw_ele, 'html.parser')"
   ]
  },
  {
   "cell_type": "code",
   "execution_count": 64,
   "id": "345cce4e",
   "metadata": {},
   "outputs": [],
   "source": [
    "main_ele = \"\"\"<h3 id=\"1-what-is-automation-testing\" class=\"a b c\">1) What is Automation testing?</h3>\"\"\""
   ]
  },
  {
   "cell_type": "code",
   "execution_count": 65,
   "id": "c3be4acf",
   "metadata": {},
   "outputs": [],
   "source": [
    "main = BeautifulSoup(main_ele, 'html.parser')"
   ]
  },
  {
   "cell_type": "code",
   "execution_count": 82,
   "id": "25b00c09",
   "metadata": {},
   "outputs": [
    {
     "data": {
      "text/plain": [
       "b'<div class=\"entry-content-wrap\"><header class=\"entry-header post-title title-align-left title-tablet-align-inherit title-mobile-align-inherit\"/><div class=\"entry-content single-content\"><h2 id=\"automation-testing-interview-questions-and-answers-for-freshers\"/><h3 id=\"1-what-is-automation-testing\">1) What is Automation testing?</h3><p/></div></div>'"
      ]
     },
     "execution_count": 82,
     "metadata": {},
     "output_type": "execute_result"
    }
   ],
   "source": [
    "b = html.fromstring(raw_ele)\n",
    "etree.tostring(etree.ElementTree(b).getroot())"
   ]
  },
  {
   "cell_type": "code",
   "execution_count": 84,
   "id": "98c7f473",
   "metadata": {},
   "outputs": [],
   "source": [
    "a = html.fromstring(main_ele)"
   ]
  },
  {
   "cell_type": "code",
   "execution_count": 85,
   "id": "c4bd4e8e",
   "metadata": {},
   "outputs": [],
   "source": [
    "a = etree.ElementTree(a).getroot()"
   ]
  },
  {
   "cell_type": "code",
   "execution_count": 90,
   "id": "3f8fee56",
   "metadata": {},
   "outputs": [],
   "source": [
    "a.attrib.get('id1')"
   ]
  },
  {
   "cell_type": "code",
   "execution_count": 98,
   "id": "1812b85d",
   "metadata": {},
   "outputs": [],
   "source": [
    "p = a"
   ]
  },
  {
   "cell_type": "code",
   "execution_count": 101,
   "id": "a76ad54d",
   "metadata": {},
   "outputs": [],
   "source": [
    "n = None"
   ]
  },
  {
   "cell_type": "code",
   "execution_count": 112,
   "id": "c4f7c8f0",
   "metadata": {},
   "outputs": [
    {
     "name": "stdout",
     "output_type": "stream",
     "text": [
      "b'<h3 id=\"1-what-is-automation-testing\" class=\"a b c\">1) What is Automation testing?</h3>'\n"
     ]
    }
   ],
   "source": [
    "print(s)"
   ]
  },
  {
   "cell_type": "code",
   "execution_count": 111,
   "id": "6040192d",
   "metadata": {},
   "outputs": [
    {
     "name": "stdout",
     "output_type": "stream",
     "text": [
      "b'<header class=\"entry-header post-title title-align-left title-tablet-align-inherit title-mobile-align-inherit\"/>'\n",
      "False\n",
      "b'<div class=\"entry-content single-content\"><h2 id=\"automation-testing-interview-questions-and-answers-for-freshers\"/><h3 id=\"1-what-is-automation-testing\">1) What is Automation testing?</h3><p/></div>'\n",
      "False\n",
      "False\n",
      "False\n",
      "False\n"
     ]
    }
   ],
   "source": [
    "s = etree.tostring(p)\n",
    "for i in b:\n",
    "    print(etree.tostring(i))\n",
    "    for j in i.iter():\n",
    "        print(etree.tostring(j) == s)\n",
    "    # for child in i:\n",
    "    #     print(etree.tostring(child) == s)\n"
   ]
  },
  {
   "cell_type": "code",
   "execution_count": 69,
   "id": "73f9394c",
   "metadata": {},
   "outputs": [
    {
     "data": {
      "text/plain": [
       "lxml.etree._ElementTree"
      ]
     },
     "execution_count": 69,
     "metadata": {},
     "output_type": "execute_result"
    }
   ],
   "source": [
    "type(dom)"
   ]
  },
  {
   "cell_type": "code",
   "execution_count": 67,
   "id": "186b0391",
   "metadata": {},
   "outputs": [],
   "source": [
    "attributes = a.attrib"
   ]
  },
  {
   "cell_type": "code",
   "execution_count": 45,
   "id": "7116fb68",
   "metadata": {},
   "outputs": [
    {
     "name": "stdout",
     "output_type": "stream",
     "text": [
      "True\n"
     ]
    }
   ],
   "source": [
    "print('id' in attributes)"
   ]
  },
  {
   "cell_type": "code",
   "execution_count": 46,
   "id": "8c7e62c7",
   "metadata": {},
   "outputs": [
    {
     "name": "stdout",
     "output_type": "stream",
     "text": [
      "True\n"
     ]
    }
   ],
   "source": [
    "print('class' in attributes)"
   ]
  },
  {
   "cell_type": "code",
   "execution_count": 49,
   "id": "660e7121",
   "metadata": {},
   "outputs": [],
   "source": [
    "classes = attributes['class'].split()"
   ]
  },
  {
   "cell_type": "code",
   "execution_count": null,
   "id": "7afa7608",
   "metadata": {},
   "outputs": [],
   "source": [
    "dom.find()"
   ]
  },
  {
   "cell_type": "code",
   "execution_count": 53,
   "id": "24febde5",
   "metadata": {},
   "outputs": [],
   "source": [
    "from typing import TypedDict, List\n",
    "\n",
    "class LocatorState(TypedDict):\n",
    "\n",
    "    name : str\n",
    "    locator : List[str]\n",
    "    type : List[str]"
   ]
  },
  {
   "cell_type": "code",
   "execution_count": null,
   "id": "59e37e13",
   "metadata": {},
   "outputs": [],
   "source": [
    "class CreateLocator:\n",
    "\n",
    "    def __init__(self):\n",
    "        pass\n",
    "\n",
    "    def byId(self, id : str):\n",
    "        return {\n",
    "            'locator' : id,\n",
    "            'type' : 'id'\n",
    "        }\n",
    "    \n",
    "    def byCssSelector(self, selector : str):\n",
    "        return {\n",
    "            'locator' : selector,\n",
    "            'type' : 'cssSelector'\n",
    "        }\n",
    "    \n",
    "    def xpath(self, path : str):\n",
    "        return {\n",
    "            'locator' : path,\n",
    "            'type' : 'xpath'\n",
    "        }"
   ]
  }
 ],
 "metadata": {
  "kernelspec": {
   "display_name": "venv (3.11.4)",
   "language": "python",
   "name": "python3"
  },
  "language_info": {
   "codemirror_mode": {
    "name": "ipython",
    "version": 3
   },
   "file_extension": ".py",
   "mimetype": "text/x-python",
   "name": "python",
   "nbconvert_exporter": "python",
   "pygments_lexer": "ipython3",
   "version": "3.11.4"
  }
 },
 "nbformat": 4,
 "nbformat_minor": 5
}
