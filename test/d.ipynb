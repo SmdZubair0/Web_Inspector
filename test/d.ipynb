{
 "cells": [
  {
   "cell_type": "code",
   "execution_count": 1,
   "id": "68577206",
   "metadata": {},
   "outputs": [],
   "source": [
    "from langgraph.graph import StateGraph, START, END\n",
    "from schemas import LocatorState\n",
    "from typing import List\n",
    "from main import *\n",
    "from readers import *\n",
    "from models.llms import ElementNamingModel\n",
    "from lxml import etree"
   ]
  },
  {
   "cell_type": "code",
   "execution_count": 2,
   "id": "f3cc4e9c",
   "metadata": {},
   "outputs": [],
   "source": [
    "el = '<form action=\"/Account/Login\" autocomplete=\"off\" class=\"_causes-notifications\" id=\"loginForm\" method=\"post\"><div class=\"top-notifs hide-sm\"/><fieldset class=\"form-row\"><div class=\"label-wrap\"/><input class=\"in-text mp-no-track\" id=\"Email\" maxlength=\"100\" name=\"Email\" placeholder=\"Enter email...\" type=\"text\" value=\"\"/></fieldset><fieldset class=\"form-row\"/></form>'\n",
    "a = '<input class=\"in-text mp-no-track\" id=\"Email\" maxlength=\"100\" name=\"Email\" placeholder=\"Enter email...\" type=\"text\" value=\"\"/>&#13;\\n            &#13;\\n        '"
   ]
  },
  {
   "cell_type": "code",
   "execution_count": 3,
   "id": "f32a1a65",
   "metadata": {},
   "outputs": [],
   "source": [
    "reader = HTMLReader()\n",
    "dom = reader.readFromFile('C:\\\\Users\\\\zubair.shaik\\\\Desktop\\\\xpathfinder\\\\dom.xml')"
   ]
  },
  {
   "cell_type": "code",
   "execution_count": 4,
   "id": "af12d0cd",
   "metadata": {},
   "outputs": [],
   "source": [
    "initial_state = {\n",
    "    'dom' : dom,\n",
    "    'raw_element' : a,\n",
    "    'raw_element_dom' : el\n",
    "}"
   ]
  },
  {
   "cell_type": "code",
   "execution_count": 5,
   "id": "c79786f0",
   "metadata": {},
   "outputs": [],
   "source": [
    "new_state = make_extract_element_node(reader)(initial_state)"
   ]
  },
  {
   "cell_type": "code",
   "execution_count": 6,
   "id": "6dcec9fd",
   "metadata": {},
   "outputs": [
    {
     "data": {
      "text/plain": [
       "{'dom': <Element html at 0x296aa307390>,\n",
       " 'raw_element': '<input class=\"in-text mp-no-track\" id=\"Email\" maxlength=\"100\" name=\"Email\" placeholder=\"Enter email...\" type=\"text\" value=\"\"/>&#13;\\n            &#13;\\n        ',\n",
       " 'raw_element_dom': '<form action=\"/Account/Login\" autocomplete=\"off\" class=\"_causes-notifications\" id=\"loginForm\" method=\"post\"><div class=\"top-notifs hide-sm\"/><fieldset class=\"form-row\"><div class=\"label-wrap\"/><input class=\"in-text mp-no-track\" id=\"Email\" maxlength=\"100\" name=\"Email\" placeholder=\"Enter email...\" type=\"text\" value=\"\"/></fieldset><fieldset class=\"form-row\"/></form>',\n",
       " 'element': <InputElement 296aa307d40 name='Email' type='text'>,\n",
       " 'element_dom': <Element form at 0x296aa307de0>}"
      ]
     },
     "execution_count": 6,
     "metadata": {},
     "output_type": "execute_result"
    }
   ],
   "source": [
    "new_state"
   ]
  },
  {
   "cell_type": "code",
   "execution_count": 7,
   "id": "69567ce1",
   "metadata": {},
   "outputs": [],
   "source": [
    "strategies = [IdLocator(IdHelper()), CssSelectorLocator(CssSelectorHelper())]"
   ]
  },
  {
   "cell_type": "code",
   "execution_count": 12,
   "id": "ceb762d5",
   "metadata": {},
   "outputs": [],
   "source": [
    "from utils import DomExplorer\n",
    "d = DomExplorer()"
   ]
  },
  {
   "cell_type": "code",
   "execution_count": 13,
   "id": "72a4ea80",
   "metadata": {},
   "outputs": [
    {
     "name": "stdout",
     "output_type": "stream",
     "text": [
      "888888<div class=\"top-notifs hide-sm\"/>\n",
      "888888<fieldset class=\"form-row\"><div class=\"label-wrap\"/><input class=\"in-text mp-no-track\" id=\"Email\" maxlength=\"100\" name=\"Email\" placeholder=\"Enter email...\" type=\"text\" value=\"\"/></fieldset>\n",
      "b'<div class=\"label-wrap\"/>' b'<input class=\"in-text mp-no-track\" id=\"Email\" maxlength=\"100\" name=\"Email\" placeholder=\"Enter email...\" type=\"text\" value=\"\"/>&#13;\\n            &#13;\\n        '\n",
      "b'<input class=\"in-text mp-no-track\" id=\"Email\" maxlength=\"100\" name=\"Email\" placeholder=\"Enter email...\" type=\"text\" value=\"\"/>' b'<input class=\"in-text mp-no-track\" id=\"Email\" maxlength=\"100\" name=\"Email\" placeholder=\"Enter email...\" type=\"text\" value=\"\"/>&#13;\\n            &#13;\\n        '\n",
      "888888<fieldset class=\"form-row\"/>\n"
     ]
    }
   ],
   "source": [
    "d.find_parent(new_state['element'], new_state['element_dom'])"
   ]
  },
  {
   "cell_type": "code",
   "execution_count": null,
   "id": "2331d146",
   "metadata": {},
   "outputs": [
    {
     "name": "stdout",
     "output_type": "stream",
     "text": [
      "888888<div class=\"top-notifs hide-sm\"/>\n",
      "888888<fieldset class=\"form-row\"><div class=\"label-wrap\"/><input class=\"in-text mp-no-track\" id=\"Email\" maxlength=\"100\" name=\"Email\" placeholder=\"Enter email...\" type=\"text\" value=\"\"/></fieldset>\n",
      "b'<div class=\"label-wrap\"/>' b'<input class=\"in-text mp-no-track\" id=\"Email\" maxlength=\"100\" name=\"Email\" placeholder=\"Enter email...\" type=\"text\" value=\"\"/>&#13;\\n            &#13;\\n        '\n",
      "b'<input class=\"in-text mp-no-track\" id=\"Email\" maxlength=\"100\" name=\"Email\" placeholder=\"Enter email...\" type=\"text\" value=\"\"/>' b'<input class=\"in-text mp-no-track\" id=\"Email\" maxlength=\"100\" name=\"Email\" placeholder=\"Enter email...\" type=\"text\" value=\"\"/>&#13;\\n            &#13;\\n        '\n",
      "888888<fieldset class=\"form-row\"/>\n",
      "[None, <Element form at 0x296aa307de0>]\n"
     ]
    },
    {
     "ename": "AttributeError",
     "evalue": "'NoneType' object has no attribute 'tag'",
     "output_type": "error",
     "traceback": [
      "\u001b[1;31m---------------------------------------------------------------------------\u001b[0m",
      "\u001b[1;31mAttributeError\u001b[0m                            Traceback (most recent call last)",
      "Cell \u001b[1;32mIn[8], line 1\u001b[0m\n\u001b[1;32m----> 1\u001b[0m \u001b[43mmake_generate_locator_node\u001b[49m\u001b[43m(\u001b[49m\u001b[43mstrategies\u001b[49m\u001b[43m)\u001b[49m\u001b[43m(\u001b[49m\u001b[43mnew_state\u001b[49m\u001b[43m)\u001b[49m\n",
      "File \u001b[1;32mc:\\Users\\zubair.shaik\\Desktop\\xpathfinder\\main.py:26\u001b[0m, in \u001b[0;36mmake_generate_locator_node.<locals>.generate_locator\u001b[1;34m(state)\u001b[0m\n\u001b[0;32m     24\u001b[0m locators \u001b[38;5;241m=\u001b[39m []\n\u001b[0;32m     25\u001b[0m \u001b[38;5;28;01mfor\u001b[39;00m strategy \u001b[38;5;129;01min\u001b[39;00m strategies:\n\u001b[1;32m---> 26\u001b[0m     response \u001b[38;5;241m=\u001b[39m \u001b[43mstrategy\u001b[49m\u001b[38;5;241;43m.\u001b[39;49m\u001b[43mcreate\u001b[49m\u001b[43m(\u001b[49m\u001b[43mstate\u001b[49m\u001b[43m[\u001b[49m\u001b[38;5;124;43m'\u001b[39;49m\u001b[38;5;124;43melement\u001b[39;49m\u001b[38;5;124;43m'\u001b[39;49m\u001b[43m]\u001b[49m\u001b[43m,\u001b[49m\u001b[43m \u001b[49m\u001b[43mstate\u001b[49m\u001b[43m[\u001b[49m\u001b[38;5;124;43m'\u001b[39;49m\u001b[38;5;124;43melement_dom\u001b[39;49m\u001b[38;5;124;43m'\u001b[39;49m\u001b[43m]\u001b[49m\u001b[43m)\u001b[49m\n\u001b[0;32m     27\u001b[0m     locators\u001b[38;5;241m.\u001b[39mappend(response)\n\u001b[0;32m     29\u001b[0m state[\u001b[38;5;124m'\u001b[39m\u001b[38;5;124mlocators\u001b[39m\u001b[38;5;124m'\u001b[39m] \u001b[38;5;241m=\u001b[39m locators\n",
      "File \u001b[1;32mc:\\Users\\zubair.shaik\\Desktop\\xpathfinder\\generator\\locators\\CssSelectorLocator.py:20\u001b[0m, in \u001b[0;36mCssSelectorLocator.create\u001b[1;34m(self, element, elememt_dom)\u001b[0m\n\u001b[0;32m     11\u001b[0m \u001b[38;5;28;01mdef\u001b[39;00m\u001b[38;5;250m \u001b[39m\u001b[38;5;21mcreate\u001b[39m(\u001b[38;5;28mself\u001b[39m,\n\u001b[0;32m     12\u001b[0m            element : etree\u001b[38;5;241m.\u001b[39m_ElementTree,\n\u001b[0;32m     13\u001b[0m            elememt_dom : etree\u001b[38;5;241m.\u001b[39m_ElementTree) \u001b[38;5;241m-\u001b[39m\u001b[38;5;241m>\u001b[39m Locator:\n\u001b[0;32m     15\u001b[0m     loc \u001b[38;5;241m=\u001b[39m {\n\u001b[0;32m     16\u001b[0m         \u001b[38;5;124m'\u001b[39m\u001b[38;5;124mtype\u001b[39m\u001b[38;5;124m'\u001b[39m : \u001b[38;5;124m'\u001b[39m\u001b[38;5;124mcssSelector\u001b[39m\u001b[38;5;124m'\u001b[39m,\n\u001b[0;32m     17\u001b[0m         \u001b[38;5;124m'\u001b[39m\u001b[38;5;124mlocators\u001b[39m\u001b[38;5;124m'\u001b[39m : []\n\u001b[0;32m     18\u001b[0m     }\n\u001b[1;32m---> 20\u001b[0m     locators \u001b[38;5;241m=\u001b[39m \u001b[38;5;28;43mself\u001b[39;49m\u001b[38;5;241;43m.\u001b[39;49m\u001b[43mgenerator\u001b[49m\u001b[38;5;241;43m.\u001b[39;49m\u001b[43mrun\u001b[49m\u001b[43m(\u001b[49m\u001b[43melement\u001b[49m\u001b[43m,\u001b[49m\u001b[43m \u001b[49m\u001b[43melememt_dom\u001b[49m\u001b[43m)\u001b[49m\n\u001b[0;32m     22\u001b[0m     loc[\u001b[38;5;124m'\u001b[39m\u001b[38;5;124mlocators\u001b[39m\u001b[38;5;124m'\u001b[39m] \u001b[38;5;241m=\u001b[39m \u001b[38;5;28mlist\u001b[39m(locators)\n\u001b[0;32m     24\u001b[0m     \u001b[38;5;28;01mreturn\u001b[39;00m loc\n",
      "File \u001b[1;32mc:\\Users\\zubair.shaik\\Desktop\\xpathfinder\\generator\\helpers\\CssSelectorHelper.py:24\u001b[0m, in \u001b[0;36mCssSelectorHelper.run\u001b[1;34m(self, element, element_dom)\u001b[0m\n\u001b[0;32m     22\u001b[0m ele_selector \u001b[38;5;241m=\u001b[39m \u001b[38;5;28mself\u001b[39m\u001b[38;5;241m.\u001b[39mget_basic_selectors(element)\n\u001b[0;32m     23\u001b[0m \u001b[38;5;66;03m# locator using direct parent and element\u001b[39;00m\n\u001b[1;32m---> 24\u001b[0m direct_parent_selector \u001b[38;5;241m=\u001b[39m \u001b[38;5;28;43mself\u001b[39;49m\u001b[38;5;241;43m.\u001b[39;49m\u001b[43mfind_parent_locator\u001b[49m\u001b[43m(\u001b[49m\u001b[43mparents\u001b[49m\u001b[43m[\u001b[49m\u001b[38;5;241;43m0\u001b[39;49m\u001b[43m]\u001b[49m\u001b[43m,\u001b[49m\u001b[43m \u001b[49m\u001b[43mele_selector\u001b[49m\u001b[43m)\u001b[49m\n\u001b[0;32m     25\u001b[0m \u001b[38;5;66;03m# locator usgin direct sibling of element\u001b[39;00m\n\u001b[0;32m     26\u001b[0m direct_sibling_selector \u001b[38;5;241m=\u001b[39m \u001b[38;5;28mself\u001b[39m\u001b[38;5;241m.\u001b[39mfind_sibling_locator(element, parents[\u001b[38;5;241m0\u001b[39m], ele_selector)\n",
      "File \u001b[1;32mc:\\Users\\zubair.shaik\\Desktop\\xpathfinder\\generator\\helpers\\CssSelectorHelper.py:49\u001b[0m, in \u001b[0;36mCssSelectorHelper.find_parent_locator\u001b[1;34m(self, parent, ele_selector)\u001b[0m\n\u001b[0;32m     43\u001b[0m \u001b[38;5;250m\u001b[39m\u001b[38;5;124;03m\"\"\"\u001b[39;00m\n\u001b[0;32m     44\u001b[0m \u001b[38;5;124;03m    find selectors for element using its parent's locator\u001b[39;00m\n\u001b[0;32m     45\u001b[0m \u001b[38;5;124;03m    - parent - parent element\u001b[39;00m\n\u001b[0;32m     46\u001b[0m \u001b[38;5;124;03m    - ele_selector - elements css locators\u001b[39;00m\n\u001b[0;32m     47\u001b[0m \u001b[38;5;124;03m\"\"\"\u001b[39;00m\n\u001b[0;32m     48\u001b[0m direct_parent_selector \u001b[38;5;241m=\u001b[39m []\n\u001b[1;32m---> 49\u001b[0m direct_parent \u001b[38;5;241m=\u001b[39m \u001b[38;5;28;43mself\u001b[39;49m\u001b[38;5;241;43m.\u001b[39;49m\u001b[43mget_basic_selectors\u001b[49m\u001b[43m(\u001b[49m\u001b[43mparent\u001b[49m\u001b[43m)\u001b[49m\n\u001b[0;32m     51\u001b[0m \u001b[38;5;66;03m# selectors using direct parents\u001b[39;00m\n\u001b[0;32m     52\u001b[0m \u001b[38;5;28;01mfor\u001b[39;00m i \u001b[38;5;129;01min\u001b[39;00m direct_parent:\n",
      "File \u001b[1;32mc:\\Users\\zubair.shaik\\Desktop\\xpathfinder\\generator\\helpers\\CssSelectorHelper.py:96\u001b[0m, in \u001b[0;36mCssSelectorHelper.get_basic_selectors\u001b[1;34m(self, el)\u001b[0m\n\u001b[0;32m     88\u001b[0m \u001b[38;5;28;01mdef\u001b[39;00m\u001b[38;5;250m \u001b[39m\u001b[38;5;21mget_basic_selectors\u001b[39m(\u001b[38;5;28mself\u001b[39m, el : etree\u001b[38;5;241m.\u001b[39m_ElementTree) \u001b[38;5;241m-\u001b[39m\u001b[38;5;241m>\u001b[39m List[\u001b[38;5;28mstr\u001b[39m]:\n\u001b[0;32m     89\u001b[0m \u001b[38;5;250m    \u001b[39m\u001b[38;5;124;03m\"\"\"\u001b[39;00m\n\u001b[0;32m     90\u001b[0m \u001b[38;5;124;03m    Generate basic CSS selectors for an element:\u001b[39;00m\n\u001b[0;32m     91\u001b[0m \u001b[38;5;124;03m    - id\u001b[39;00m\n\u001b[1;32m   (...)\u001b[0m\n\u001b[0;32m     94\u001b[0m \u001b[38;5;124;03m    - attributes like name, type, aria-label, alt\u001b[39;00m\n\u001b[0;32m     95\u001b[0m \u001b[38;5;124;03m    \"\"\"\u001b[39;00m\n\u001b[1;32m---> 96\u001b[0m     tag \u001b[38;5;241m=\u001b[39m \u001b[43mel\u001b[49m\u001b[38;5;241;43m.\u001b[39;49m\u001b[43mtag\u001b[49m\n\u001b[0;32m     97\u001b[0m     selectors \u001b[38;5;241m=\u001b[39m [tag]\n\u001b[0;32m     99\u001b[0m     \u001b[38;5;66;03m# ID selector\u001b[39;00m\n",
      "\u001b[1;31mAttributeError\u001b[0m: 'NoneType' object has no attribute 'tag'"
     ]
    }
   ],
   "source": [
    "make_generate_locator_node(strategies)(new_state)"
   ]
  },
  {
   "cell_type": "code",
   "execution_count": null,
   "id": "714c568b",
   "metadata": {},
   "outputs": [],
   "source": []
  }
 ],
 "metadata": {
  "kernelspec": {
   "display_name": "Python 3",
   "language": "python",
   "name": "python3"
  },
  "language_info": {
   "codemirror_mode": {
    "name": "ipython",
    "version": 3
   },
   "file_extension": ".py",
   "mimetype": "text/x-python",
   "name": "python",
   "nbconvert_exporter": "python",
   "pygments_lexer": "ipython3",
   "version": "3.12.9"
  }
 },
 "nbformat": 4,
 "nbformat_minor": 5
}
